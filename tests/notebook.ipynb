{
 "cells": [
  {
   "cell_type": "code",
   "execution_count": 18,
   "metadata": {},
   "outputs": [
    {
     "name": "stdout",
     "output_type": "stream",
     "text": [
      "Available text files:\n",
      "1. input_california_housing.txt\n",
      "2. input_diabetics.txt\n",
      "3. input_titanic.txt\n",
      "4. synthetic_regression.txt\n",
      "Invalid choice.\n",
      "\n",
      "Content of the chosen file:\n",
      "Fill the information in the form before running the application.\n",
      "The answer should be on the same line as the question, without any [ ] or ' '.\n",
      "Example: ' Regressor or Classifier, type [ regression / classification ]->classification '\n",
      "\n",
      "# task_type - type [ regression / classification ]->classification\n",
      "\n",
      "# csv_path - Path to csv data, example [ C:/Users/.../data.csv ]->csv\\titanic.csv\n",
      "\n",
      "# target - Target column name, example [ target ]->Survived\n",
      "\n",
      "# split_size - Train test split size (0.05 <= x <= 0.95), example [ 0.3 ]->0.2\n",
      "\n",
      "# model_name - Final model name, example [ final_model ]->final_model\n",
      "\n",
      "# scale - -> zscore\n",
      "\n",
      "# drop_columns - (Optional) Columns to drop, separate with ',' example [ col1,col2,col3 ]->\n"
     ]
    }
   ],
   "source": [
    "import os\n",
    "\n",
    "def choose_text_file(folder = \"user_file\"):\n",
    "    text_files = [f for f in os.listdir(folder) if f.endswith('.txt')]\n",
    "    print(\"Available text files:\")\n",
    "    for idx, file in enumerate(text_files):\n",
    "        print(f\"{idx + 1}. {file}\")\n",
    "    \n",
    "    choice = get_choice(len(text_files))\n",
    "    chosen_file_path = os.path.join(folder, text_files[choice])\n",
    "    \n",
    "    with open(chosen_file_path, 'r') as f:\n",
    "        return f.read()\n",
    "\n",
    "\n",
    "def get_choice(n, attempts=1):\n",
    "    \n",
    "    msg = \"Enter the number of the file you want to open: \"\n",
    "    choice = input(msg)\n",
    "    while attempts > 0 and (not choice.isdigit() or not 0 <= int(choice) < n):\n",
    "        print(\"Invalid choice.\")\n",
    "        choice = input(msg)\n",
    "        attempts -= 1\n",
    "        \n",
    "    if attempts <= 0 and (not choice.isdigit() or not 0 <= int(choice) < n):\n",
    "        raise ValueError(\"Too many invalid choices.\")\n",
    "    \n",
    "    return int(choice) -1\n",
    "\n",
    "choose_text_file()\n",
    "print(\"\\nContent of the chosen file:\")\n",
    "print(file_content)"
   ]
  },
  {
   "cell_type": "code",
   "execution_count": 10,
   "metadata": {},
   "outputs": [],
   "source": [
    "import os\n",
    "\n",
    "os.getcwd()\n",
    "\n",
    "import sys\n",
    "sys.path.append(os.path.dirname(os.getcwd()))\n"
   ]
  },
  {
   "cell_type": "code",
   "execution_count": 14,
   "metadata": {},
   "outputs": [
    {
     "data": {
      "text/plain": [
       "'d:\\\\Dokument\\\\VS-Code\\\\effective_python\\\\ML_untitest\\\\fast_model_loader'"
      ]
     },
     "execution_count": 14,
     "metadata": {},
     "output_type": "execute_result"
    }
   ],
   "source": [
    "os.path.dirname(os.getcwd())"
   ]
  },
  {
   "cell_type": "code",
   "execution_count": 12,
   "metadata": {},
   "outputs": [
    {
     "data": {
      "text/plain": [
       "'D:\\\\Dokument\\\\VS-Code\\\\effective_python\\\\ML_untitest\\\\fast_model_loader'"
      ]
     },
     "execution_count": 12,
     "metadata": {},
     "output_type": "execute_result"
    }
   ],
   "source": [
    "r\"D:\\Dokument\\VS-Code\\effective_python\\ML_untitest\\fast_model_loader\""
   ]
  },
  {
   "cell_type": "code",
   "execution_count": 20,
   "metadata": {},
   "outputs": [
    {
     "name": "stdout",
     "output_type": "stream",
     "text": [
      "test\n",
      "test2\n"
     ]
    }
   ],
   "source": [
    "class Test:\n",
    "    test = \"test\"\n",
    "    \n",
    "    def test_func(self):\n",
    "        print(self.test)\n",
    "        \n",
    "t = Test()\n",
    "t.test_func()\n",
    "t.test = \"test2\"\n",
    "t.test_func()"
   ]
  }
 ],
 "metadata": {
  "kernelspec": {
   "display_name": "Python 3",
   "language": "python",
   "name": "python3"
  },
  "language_info": {
   "codemirror_mode": {
    "name": "ipython",
    "version": 3
   },
   "file_extension": ".py",
   "mimetype": "text/x-python",
   "name": "python",
   "nbconvert_exporter": "python",
   "pygments_lexer": "ipython3",
   "version": "3.10.6"
  },
  "orig_nbformat": 4
 },
 "nbformat": 4,
 "nbformat_minor": 2
}
