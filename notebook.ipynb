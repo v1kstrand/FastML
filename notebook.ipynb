{
 "cells": [
  {
   "cell_type": "code",
   "execution_count": 1,
   "metadata": {},
   "outputs": [
    {
     "ename": "FileNotFoundError",
     "evalue": "[WinError 3] Det går inte att hitta sökvägen: 'user_file'",
     "output_type": "error",
     "traceback": [
      "\u001b[1;31m---------------------------------------------------------------------------\u001b[0m",
      "\u001b[1;31mFileNotFoundError\u001b[0m                         Traceback (most recent call last)",
      "\u001b[1;32md:\\Dokument\\VS-Code\\effective_python\\ML_untitest\\fast_model_loader\\tests\\notebook.ipynb Cell 1\u001b[0m line \u001b[0;36m3\n\u001b[0;32m     <a href='vscode-notebook-cell:/d%3A/Dokument/VS-Code/effective_python/ML_untitest/fast_model_loader/tests/notebook.ipynb#W0sZmlsZQ%3D%3D?line=25'>26</a>\u001b[0m         \u001b[39mraise\u001b[39;00m \u001b[39mValueError\u001b[39;00m(\u001b[39m\"\u001b[39m\u001b[39mToo many invalid choices.\u001b[39m\u001b[39m\"\u001b[39m)\n\u001b[0;32m     <a href='vscode-notebook-cell:/d%3A/Dokument/VS-Code/effective_python/ML_untitest/fast_model_loader/tests/notebook.ipynb#W0sZmlsZQ%3D%3D?line=27'>28</a>\u001b[0m     \u001b[39mreturn\u001b[39;00m \u001b[39mint\u001b[39m(choice) \u001b[39m-\u001b[39m\u001b[39m1\u001b[39m\n\u001b[1;32m---> <a href='vscode-notebook-cell:/d%3A/Dokument/VS-Code/effective_python/ML_untitest/fast_model_loader/tests/notebook.ipynb#W0sZmlsZQ%3D%3D?line=29'>30</a>\u001b[0m choose_text_file()\n\u001b[0;32m     <a href='vscode-notebook-cell:/d%3A/Dokument/VS-Code/effective_python/ML_untitest/fast_model_loader/tests/notebook.ipynb#W0sZmlsZQ%3D%3D?line=30'>31</a>\u001b[0m \u001b[39mprint\u001b[39m(\u001b[39m\"\u001b[39m\u001b[39m\\n\u001b[39;00m\u001b[39mContent of the chosen file:\u001b[39m\u001b[39m\"\u001b[39m)\n\u001b[0;32m     <a href='vscode-notebook-cell:/d%3A/Dokument/VS-Code/effective_python/ML_untitest/fast_model_loader/tests/notebook.ipynb#W0sZmlsZQ%3D%3D?line=31'>32</a>\u001b[0m \u001b[39mprint\u001b[39m(file_content)\n",
      "\u001b[1;32md:\\Dokument\\VS-Code\\effective_python\\ML_untitest\\fast_model_loader\\tests\\notebook.ipynb Cell 1\u001b[0m line \u001b[0;36m4\n\u001b[0;32m      <a href='vscode-notebook-cell:/d%3A/Dokument/VS-Code/effective_python/ML_untitest/fast_model_loader/tests/notebook.ipynb#W0sZmlsZQ%3D%3D?line=2'>3</a>\u001b[0m \u001b[39mdef\u001b[39;00m \u001b[39mchoose_text_file\u001b[39m(folder \u001b[39m=\u001b[39m \u001b[39m\"\u001b[39m\u001b[39muser_file\u001b[39m\u001b[39m\"\u001b[39m):\n\u001b[1;32m----> <a href='vscode-notebook-cell:/d%3A/Dokument/VS-Code/effective_python/ML_untitest/fast_model_loader/tests/notebook.ipynb#W0sZmlsZQ%3D%3D?line=3'>4</a>\u001b[0m     text_files \u001b[39m=\u001b[39m [f \u001b[39mfor\u001b[39;00m f \u001b[39min\u001b[39;00m os\u001b[39m.\u001b[39;49mlistdir(folder) \u001b[39mif\u001b[39;00m f\u001b[39m.\u001b[39mendswith(\u001b[39m'\u001b[39m\u001b[39m.txt\u001b[39m\u001b[39m'\u001b[39m)]\n\u001b[0;32m      <a href='vscode-notebook-cell:/d%3A/Dokument/VS-Code/effective_python/ML_untitest/fast_model_loader/tests/notebook.ipynb#W0sZmlsZQ%3D%3D?line=4'>5</a>\u001b[0m     \u001b[39mprint\u001b[39m(\u001b[39m\"\u001b[39m\u001b[39mAvailable text files:\u001b[39m\u001b[39m\"\u001b[39m)\n\u001b[0;32m      <a href='vscode-notebook-cell:/d%3A/Dokument/VS-Code/effective_python/ML_untitest/fast_model_loader/tests/notebook.ipynb#W0sZmlsZQ%3D%3D?line=5'>6</a>\u001b[0m     \u001b[39mfor\u001b[39;00m idx, file \u001b[39min\u001b[39;00m \u001b[39menumerate\u001b[39m(text_files):\n",
      "\u001b[1;31mFileNotFoundError\u001b[0m: [WinError 3] Det går inte att hitta sökvägen: 'user_file'"
     ]
    }
   ],
   "source": [
    "import os\n",
    "\n",
    "def choose_text_file(folder = \"user_file\"):\n",
    "    text_files = [f for f in os.listdir(folder) if f.endswith('.txt')]\n",
    "    print(\"Available text files:\")\n",
    "    for idx, file in enumerate(text_files):\n",
    "        print(f\"{idx + 1}. {file}\")\n",
    "    \n",
    "    choice = get_choice(len(text_files))\n",
    "    chosen_file_path = os.path.join(folder, text_files[choice])\n",
    "    \n",
    "    with open(chosen_file_path, 'r') as f:\n",
    "        return f.read()\n",
    "\n",
    "\n",
    "def get_choice(n, attempts=1):\n",
    "    \n",
    "    msg = \"Enter the number of the file you want to open: \"\n",
    "    choice = input(msg)\n",
    "    while attempts > 0 and (not choice.isdigit() or not 0 <= int(choice) < n):\n",
    "        print(\"Invalid choice.\")\n",
    "        choice = input(msg)\n",
    "        attempts -= 1\n",
    "        \n",
    "    if attempts <= 0 and (not choice.isdigit() or not 0 <= int(choice) < n):\n",
    "        raise ValueError(\"Too many invalid choices.\")\n",
    "    \n",
    "    return int(choice) -1\n",
    "\n",
    "choose_text_file()\n",
    "print(\"\\nContent of the chosen file:\")\n",
    "print(file_content)"
   ]
  },
  {
   "cell_type": "code",
   "execution_count": null,
   "metadata": {},
   "outputs": [],
   "source": [
    "import os\n",
    "\n",
    "os.getcwd()\n",
    "\n",
    "import sys\n",
    "sys.path.append(os.path.dirname(os.getcwd()))\n"
   ]
  },
  {
   "cell_type": "code",
   "execution_count": null,
   "metadata": {},
   "outputs": [
    {
     "data": {
      "text/plain": [
       "'d:\\\\Dokument\\\\VS-Code\\\\effective_python\\\\ML_untitest\\\\fast_model_loader'"
      ]
     },
     "execution_count": 14,
     "metadata": {},
     "output_type": "execute_result"
    }
   ],
   "source": [
    "os.path.dirname(os.getcwd())"
   ]
  },
  {
   "cell_type": "code",
   "execution_count": null,
   "metadata": {},
   "outputs": [
    {
     "data": {
      "text/plain": [
       "'D:\\\\Dokument\\\\VS-Code\\\\effective_python\\\\ML_untitest\\\\fast_model_loader'"
      ]
     },
     "execution_count": 12,
     "metadata": {},
     "output_type": "execute_result"
    }
   ],
   "source": [
    "r\"D:\\Dokument\\VS-Code\\effective_python\\ML_untitest\\fast_model_loader\""
   ]
  },
  {
   "cell_type": "code",
   "execution_count": null,
   "metadata": {},
   "outputs": [
    {
     "name": "stdout",
     "output_type": "stream",
     "text": [
      "test\n",
      "test2\n"
     ]
    }
   ],
   "source": [
    "class Test:\n",
    "    test = \"test\"\n",
    "    \n",
    "    def test_func(self):\n",
    "        print(self.test)\n",
    "        \n",
    "t = Test()\n",
    "t.test_func()\n",
    "t.test = \"test2\"\n",
    "t.test_func()"
   ]
  },
  {
   "cell_type": "code",
   "execution_count": 2,
   "metadata": {},
   "outputs": [
    {
     "data": {
      "text/html": [
       "\n",
       "                <script type=\"application/javascript\" id=\"jupyter_black\">\n",
       "                (function() {\n",
       "                    if (window.IPython === undefined) {\n",
       "                        return\n",
       "                    }\n",
       "                    var msg = \"WARNING: it looks like you might have loaded \" +\n",
       "                        \"jupyter_black in a non-lab notebook with \" +\n",
       "                        \"`is_lab=True`. Please double check, and if \" +\n",
       "                        \"loading with `%load_ext` please review the README!\"\n",
       "                    console.log(msg)\n",
       "                    alert(msg)\n",
       "                })()\n",
       "                </script>\n",
       "                "
      ],
      "text/plain": [
       "<IPython.core.display.HTML object>"
      ]
     },
     "metadata": {},
     "output_type": "display_data"
    }
   ],
   "source": [
    "import jupyter_black\n",
    "jupyter_black.load()"
   ]
  },
  {
   "cell_type": "code",
   "execution_count": 12,
   "metadata": {},
   "outputs": [
    {
     "name": "stdout",
     "output_type": "stream",
     "text": [
      "1 - model1: mae: 0.1, mse: 0.2\n",
      "2 - model2: mae: 0.3, mse: 0.4\n"
     ]
    }
   ],
   "source": [
    "score = {\"model1\": {\"mae\": 0.1, \"mse\": 0.2}, \"model2\": {\"mae\": 0.3, \"mse\": 0.4}}\n",
    "\n",
    "for i, (model, metrics) in enumerate(score.items(), 1):\n",
    "    s = \"\".join(f\"{metric}: {value}, \" for metric, value in metrics.items())\n",
    "    print(f\"{i} - {model}: {s[:-2]}\")"
   ]
  },
  {
   "cell_type": "code",
   "execution_count": 15,
   "metadata": {},
   "outputs": [
    {
     "data": {
      "text/plain": [
       "defaultdict(dict, {})"
      ]
     },
     "execution_count": 15,
     "metadata": {},
     "output_type": "execute_result"
    }
   ],
   "source": [
    "from collections import defaultdict\n",
    "\n",
    "score = defaultdict(dict)\n",
    "\n",
    "score[\"model1\"][\"mae\"] = 0.1\n",
    "score.clear()\n",
    "score"
   ]
  }
 ],
 "metadata": {
  "kernelspec": {
   "display_name": "Python 3",
   "language": "python",
   "name": "python3"
  },
  "language_info": {
   "codemirror_mode": {
    "name": "ipython",
    "version": 3
   },
   "file_extension": ".py",
   "mimetype": "text/x-python",
   "name": "python",
   "nbconvert_exporter": "python",
   "pygments_lexer": "ipython3",
   "version": "3.10.6"
  },
  "orig_nbformat": 4
 },
 "nbformat": 4,
 "nbformat_minor": 2
}
